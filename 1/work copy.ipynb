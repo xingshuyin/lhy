{
 "cells": [
  {
   "cell_type": "code",
   "execution_count": null,
   "metadata": {},
   "outputs": [],
   "source": [
    "import torch\n",
    "from torch.utils.data import Dataset, DataLoader\n",
    "import torch.nn as nn\n",
    "import csv\n",
    "import numpy as np\n",
    "import pandas as pd"
   ]
  },
  {
   "cell_type": "code",
   "execution_count": null,
   "metadata": {},
   "outputs": [],
   "source": [
    "class MyDataset(Dataset):\n",
    "    def __init__(self,path,mode='train') -> None:\n",
    "        super().__init__()\n",
    "        self.d = torch.Tensor(pd.read_csv(path).values) # 读取csv数据\n",
    "        # self.d = torch.Tensor(np.loadtxt('./covid.train.csv',delimiter=',', dtype=np.float64, skiprows=1))\n",
    "        # self.d[:, 40:] =(self.d[:, 40:] - self.d[:, 40:].mean(dim=0, keepdim=True)) / self.d[:, 40:].std(dim=0, keepdim=True)\n",
    "        if mode == 'train':\n",
    "            indices = [i for i in range(len(self.d)) if i % 10 != 0]\n",
    "        elif mode == 'valid':\n",
    "            indices = [i for i in range(len(self.d)) if i % 10 == 0]\n",
    "        elif mode == 'test':\n",
    "            indices = [i for i in range(len(self.d))]\n",
    "        self.d = torch.FloatTensor(self.d[indices])\n",
    "        self.dim = self.d.size()[1]-1\n",
    "    def __getitem__(self, index):\n",
    "        return self.d[index][:-1], self.d[index][-1]\n",
    "    def __len__(self):\n",
    "        return len(self.d)"
   ]
  }
 ],
 "metadata": {
  "kernelspec": {
   "display_name": "Python 3",
   "language": "python",
   "name": "python3"
  },
  "language_info": {
   "codemirror_mode": {
    "name": "ipython",
    "version": 3
   },
   "file_extension": ".py",
   "mimetype": "text/x-python",
   "name": "python",
   "nbconvert_exporter": "python",
   "pygments_lexer": "ipython3",
   "version": "3.10.9"
  },
  "orig_nbformat": 4,
  "vscode": {
   "interpreter": {
    "hash": "7392da144064f1aa15cf08c4e7ddc165a7c1359cf4075889bfb2179946b3fa60"
   }
  }
 },
 "nbformat": 4,
 "nbformat_minor": 2
}
